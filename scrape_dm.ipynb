{
 "cells": [
  {
   "cell_type": "code",
   "execution_count": 64,
   "metadata": {
    "collapsed": false
   },
   "outputs": [],
   "source": [
    "import requests\n",
    "import time\n",
    "sampleurl1 = 'http://www.dailymile.com/people/danstoner/entries/35646080/workout_data' # with gear and effort\n",
    "sampleurl2 = 'http://www.dailymile.com/people/danstoner/entries/35103337/workout_data' # with gear, effort, map, and comment\n",
    "sampleurl3 = 'http://www.dailymile.com/people/danstoner/entries/35419201/workout_data' # empty page, only comment\n",
    "\n",
    "#sampleurl4 = 'http://www.dailymile.com/people/danstoner/entries/35542790' # with gear, effort, map, and weather\n",
    "url = 'http://www.dailymile.com/people/danstoner/entries/35587204/workout_data'\n",
    "#requests.packages.urllib3.disable_warnings()\n",
    "from pyquery import PyQuery as pq\n"
   ]
  },
  {
   "cell_type": "code",
   "execution_count": 65,
   "metadata": {
    "collapsed": false
   },
   "outputs": [
    {
     "name": "stdout",
     "output_type": "stream",
     "text": [
      "Gear\n",
      "Effort\n",
      "Calories\n"
     ]
    }
   ],
   "source": [
    "r = requests.get(sampleurl1)\n",
    "r.raise_for_status()\n",
    "r.content\n",
    "blurb = pq(r.content)\n",
    "for detail in blurb('dt'):\n",
    "    print detail.text\n",
    "#blurb().text()"
   ]
  },
  {
   "cell_type": "code",
   "execution_count": 66,
   "metadata": {
    "collapsed": false
   },
   "outputs": [
    {
     "name": "stdout",
     "output_type": "stream",
     "text": [
      "Gear\n",
      "Effort\n",
      "Calories\n"
     ]
    }
   ],
   "source": [
    "r = requests.get(sampleurl2)\n",
    "r.raise_for_status()\n",
    "r.content\n",
    "blurb = pq(r.content)\n",
    "for detail in blurb('dt'):\n",
    "    print detail.text"
   ]
  },
  {
   "cell_type": "code",
   "execution_count": 67,
   "metadata": {
    "collapsed": false
   },
   "outputs": [],
   "source": [
    "r = requests.get(sampleurl3)\n",
    "r.raise_for_status()\n",
    "blurb = pq('<document>' + r.content + '</document>')\n"
   ]
  },
  {
   "cell_type": "code",
   "execution_count": 68,
   "metadata": {
    "collapsed": false
   },
   "outputs": [],
   "source": [
    "#print blurb.children()\n",
    "for detail in blurb('dt'):\n",
    "    print detail.text()"
   ]
  },
  {
   "cell_type": "code",
   "execution_count": 69,
   "metadata": {
    "collapsed": false
   },
   "outputs": [
    {
     "data": {
      "text/plain": [
       "[<<built-in function Comment>>]"
      ]
     },
     "execution_count": 69,
     "metadata": {},
     "output_type": "execute_result"
    }
   ],
   "source": [
    "blurb.children()"
   ]
  },
  {
   "cell_type": "code",
   "execution_count": 70,
   "metadata": {
    "collapsed": false
   },
   "outputs": [],
   "source": [
    "r = requests.get(url,timeout=5)\n",
    "r.raise_for_status()\n",
    "\n"
   ]
  },
  {
   "cell_type": "code",
   "execution_count": 71,
   "metadata": {
    "collapsed": false
   },
   "outputs": [
    {
     "data": {
      "text/plain": [
       "'<dl id=\"workout_details\" class=\"details left\"> \\n  <dt>Gear</dt>\\n  <dd>\\n    <ul class=\"keyword_list\">\\n      <li><a href=\"#\" onclick=\"javascript: return false\"><span>VFF SeeYa LS</span></a></li>\\n    </ul>\\n  </dd>\\n  <dt style=\"display: none\">Effort</dt>\\n  <dd style=\"display: none\">\\n    <ul class=\"effort-rating\" style=\"display: block\">\\n      <li class=\"current-rating\" style=\"width: 60%;\">Currently 3/5 Effort.</li>\\n    </ul>\\n  </dd>\\n  <dt style=\"display: none\">Calories</dt>\\n  <dd style=\"display: none\">\\n    489\\n  </dd>\\n</dl>\\n<div class=\"clearl empty_div\"></div>\\n'"
      ]
     },
     "execution_count": 71,
     "metadata": {},
     "output_type": "execute_result"
    }
   ],
   "source": [
    "r.content"
   ]
  },
  {
   "cell_type": "code",
   "execution_count": 50,
   "metadata": {
    "collapsed": false
   },
   "outputs": [
    {
     "data": {
      "text/plain": [
       "'Currently 3/5 Effort.'"
      ]
     },
     "execution_count": 50,
     "metadata": {},
     "output_type": "execute_result"
    }
   ],
   "source": [
    "doc = pq(r.content)\n",
    "doc('li.current-rating').text()"
   ]
  },
  {
   "cell_type": "code",
   "execution_count": 72,
   "metadata": {
    "collapsed": false
   },
   "outputs": [
    {
     "data": {
      "text/plain": [
       "'spikes - New Balance MXC700BS'"
      ]
     },
     "execution_count": 72,
     "metadata": {},
     "output_type": "execute_result"
    }
   ],
   "source": [
    "doc('ul.keyword_list').text()"
   ]
  },
  {
   "cell_type": "code",
   "execution_count": 73,
   "metadata": {
    "collapsed": false
   },
   "outputs": [
    {
     "data": {
      "text/plain": [
       "[<dt>, <dt>, <dt>]"
      ]
     },
     "execution_count": 73,
     "metadata": {},
     "output_type": "execute_result"
    }
   ],
   "source": [
    "doc('dt')"
   ]
  },
  {
   "cell_type": "code",
   "execution_count": 74,
   "metadata": {
    "collapsed": false
   },
   "outputs": [],
   "source": [
    "gear = ''\n",
    "for detail in doc('dt'):\n",
    "    if detail.text == 'Gear':\n",
    "        gear = doc.find('span').text()"
   ]
  },
  {
   "cell_type": "code",
   "execution_count": 75,
   "metadata": {
    "collapsed": false
   },
   "outputs": [
    {
     "data": {
      "text/plain": [
       "'spikes - New Balance MXC700BS'"
      ]
     },
     "execution_count": 75,
     "metadata": {},
     "output_type": "execute_result"
    }
   ],
   "source": [
    "gear"
   ]
  },
  {
   "cell_type": "code",
   "execution_count": null,
   "metadata": {
    "collapsed": true
   },
   "outputs": [],
   "source": []
  }
 ],
 "metadata": {
  "kernelspec": {
   "display_name": "Python 2",
   "language": "python",
   "name": "python2"
  },
  "language_info": {
   "codemirror_mode": {
    "name": "ipython",
    "version": 2
   },
   "file_extension": ".py",
   "mimetype": "text/x-python",
   "name": "python",
   "nbconvert_exporter": "python",
   "pygments_lexer": "ipython2",
   "version": "2.7.6"
  }
 },
 "nbformat": 4,
 "nbformat_minor": 0
}
