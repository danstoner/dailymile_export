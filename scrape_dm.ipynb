{
 "cells": [
  {
   "cell_type": "code",
   "execution_count": 41,
   "metadata": {
    "collapsed": false
   },
   "outputs": [],
   "source": [
    "import requests\n",
    "import time\n",
    "#url = 'http://www.dailymile.com/people/danstoner/entries/35646080/workout_data'\n",
    "url = 'http://www.dailymile.com/people/danstoner/entries/35587204/workout_data'\n",
    "#requests.packages.urllib3.disable_warnings()\n",
    "from pyquery import PyQuery as pq\n"
   ]
  },
  {
   "cell_type": "code",
   "execution_count": 42,
   "metadata": {
    "collapsed": false
   },
   "outputs": [],
   "source": [
    "r = requests.get(url,timeout=5)\n",
    "r.raise_for_status()\n",
    "\n"
   ]
  },
  {
   "cell_type": "code",
   "execution_count": 49,
   "metadata": {
    "collapsed": false
   },
   "outputs": [
    {
     "data": {
      "text/plain": [
       "'<dl id=\"workout_details\" class=\"details left\"> \\n  <dt>Gear</dt>\\n  <dd>\\n    <ul class=\"keyword_list\">\\n      <li><a href=\"#\" onclick=\"javascript: return false\"><span>VFF SeeYa LS</span></a></li>\\n    </ul>\\n  </dd>\\n  <dt style=\"display: none\">Effort</dt>\\n  <dd style=\"display: none\">\\n    <ul class=\"effort-rating\" style=\"display: block\">\\n      <li class=\"current-rating\" style=\"width: 60%;\">Currently 3/5 Effort.</li>\\n    </ul>\\n  </dd>\\n  <dt style=\"display: none\">Calories</dt>\\n  <dd style=\"display: none\">\\n    489\\n  </dd>\\n</dl>\\n<div class=\"clearl empty_div\"></div>\\n'"
      ]
     },
     "execution_count": 49,
     "metadata": {},
     "output_type": "execute_result"
    }
   ],
   "source": [
    "r.content"
   ]
  },
  {
   "cell_type": "code",
   "execution_count": 50,
   "metadata": {
    "collapsed": false
   },
   "outputs": [
    {
     "data": {
      "text/plain": [
       "'Currently 3/5 Effort.'"
      ]
     },
     "execution_count": 50,
     "metadata": {},
     "output_type": "execute_result"
    }
   ],
   "source": [
    "doc = pq(r.content)\n",
    "doc('li.current-rating').text()"
   ]
  },
  {
   "cell_type": "code",
   "execution_count": 51,
   "metadata": {
    "collapsed": false
   },
   "outputs": [
    {
     "data": {
      "text/plain": [
       "'VFF SeeYa LS'"
      ]
     },
     "execution_count": 51,
     "metadata": {},
     "output_type": "execute_result"
    }
   ],
   "source": [
    "doc('ul.keyword_list').text()"
   ]
  },
  {
   "cell_type": "code",
   "execution_count": 52,
   "metadata": {
    "collapsed": false
   },
   "outputs": [
    {
     "data": {
      "text/plain": [
       "[<dt>, <dt>, <dt>]"
      ]
     },
     "execution_count": 52,
     "metadata": {},
     "output_type": "execute_result"
    }
   ],
   "source": [
    "doc('dt')"
   ]
  },
  {
   "cell_type": "code",
   "execution_count": 53,
   "metadata": {
    "collapsed": false
   },
   "outputs": [],
   "source": [
    "gear = ''\n",
    "for detail in doc('dt'):\n",
    "    if detail.text == 'Gear':\n",
    "        gear = doc.find('span').text()"
   ]
  },
  {
   "cell_type": "code",
   "execution_count": 54,
   "metadata": {
    "collapsed": false
   },
   "outputs": [
    {
     "data": {
      "text/plain": [
       "'VFF SeeYa LS'"
      ]
     },
     "execution_count": 54,
     "metadata": {},
     "output_type": "execute_result"
    }
   ],
   "source": [
    "gear"
   ]
  },
  {
   "cell_type": "code",
   "execution_count": null,
   "metadata": {
    "collapsed": true
   },
   "outputs": [],
   "source": []
  }
 ],
 "metadata": {
  "kernelspec": {
   "display_name": "Python 2",
   "language": "python",
   "name": "python2"
  },
  "language_info": {
   "codemirror_mode": {
    "name": "ipython",
    "version": 2
   },
   "file_extension": ".py",
   "mimetype": "text/x-python",
   "name": "python",
   "nbconvert_exporter": "python",
   "pygments_lexer": "ipython2",
   "version": "2.7.6"
  }
 },
 "nbformat": 4,
 "nbformat_minor": 0
}
