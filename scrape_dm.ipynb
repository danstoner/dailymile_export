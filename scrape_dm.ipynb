{
 "cells": [
  {
   "cell_type": "code",
   "execution_count": 126,
   "metadata": {
    "collapsed": false
   },
   "outputs": [],
   "source": [
    "import requests\n",
    "import time\n",
    "sampleurl1 = 'http://www.dailymile.com/people/danstoner/entries/35646080/workout_data' # with gear and effort\n",
    "sampleurl2 = 'http://www.dailymile.com/people/danstoner/entries/35103337/workout_data' # with gear, effort, map, and comment\n",
    "sampleurl3 = 'http://www.dailymile.com/people/danstoner/entries/35419201/workout_data' # empty page, only comment\n",
    "sampleurl4 = 'http://www.dailymile.com/people/danstoner/entries/35373143/workout_data' # includes weather\n",
    "\n",
    "#sampleurl5 = 'http://www.dailymile.com/people/danstoner/entries/35542790' # with gear, effort, map, and weather\n",
    "url = 'http://www.dailymile.com/people/danstoner/entries/35587204/workout_data'\n",
    "#requests.packages.urllib3.disable_warnings()\n",
    "from pyquery import PyQuery as pq\n",
    "\n",
    "from bs4 import BeautifulSoup\n"
   ]
  },
  {
   "cell_type": "markdown",
   "metadata": {},
   "source": [
    "## pyquery Samples\n"
   ]
  },
  {
   "cell_type": "code",
   "execution_count": 78,
   "metadata": {
    "collapsed": false
   },
   "outputs": [],
   "source": [
    "d = pq('<span><p class=\"hello\">Hi</p><p>Bye</p></span>')\n"
   ]
  },
  {
   "cell_type": "code",
   "execution_count": 84,
   "metadata": {
    "collapsed": false
   },
   "outputs": [
    {
     "name": "stdout",
     "output_type": "stream",
     "text": [
      "Hi\n",
      "Bye\n"
     ]
    }
   ],
   "source": [
    "for each in d.children():\n",
    "    print each.text\n"
   ]
  },
  {
   "cell_type": "code",
   "execution_count": 2,
   "metadata": {
    "collapsed": false
   },
   "outputs": [
    {
     "name": "stdout",
     "output_type": "stream",
     "text": [
      "Gear\n",
      "Effort\n",
      "Calories\n"
     ]
    }
   ],
   "source": [
    "r = requests.get(sampleurl1)\n",
    "r.raise_for_status()\n",
    "r.content\n",
    "blurb = pq(r.content)\n",
    "for detail in blurb('dt'):\n",
    "    print detail.text\n",
    "#blurb().text()"
   ]
  },
  {
   "cell_type": "code",
   "execution_count": 3,
   "metadata": {
    "collapsed": false
   },
   "outputs": [
    {
     "name": "stdout",
     "output_type": "stream",
     "text": [
      "Gear\n",
      "Effort\n",
      "Calories\n"
     ]
    }
   ],
   "source": [
    "r = requests.get(sampleurl2)\n",
    "r.raise_for_status()\n",
    "r.content\n",
    "blurb = pq(r.content)\n",
    "for detail in blurb('dt'):\n",
    "    print detail.text"
   ]
  },
  {
   "cell_type": "code",
   "execution_count": 8,
   "metadata": {
    "collapsed": false
   },
   "outputs": [],
   "source": [
    "r = requests.get(sampleurl3)\n",
    "r.raise_for_status()\n",
    "blurb = pq('<document>' + r.content + '</document>')\n",
    "for detail in blurb('dt'):\n",
    "    print detail.text"
   ]
  },
  {
   "cell_type": "code",
   "execution_count": 16,
   "metadata": {
    "collapsed": false
   },
   "outputs": [],
   "source": [
    "#print blurb.children()\n",
    "for detail in blurb('dt'):\n",
    "    print detail.text()"
   ]
  },
  {
   "cell_type": "code",
   "execution_count": 118,
   "metadata": {
    "collapsed": false
   },
   "outputs": [
    {
     "name": "stdout",
     "output_type": "stream",
     "text": [
      "Gear\n",
      "\n",
      "    \n",
      "Effort\n",
      "\n",
      "    \n",
      "Weather\n",
      "\n",
      "    \n",
      "Calories\n",
      "\n",
      "    1067\n",
      "  \n"
     ]
    }
   ],
   "source": [
    "r = requests.get(sampleurl4)\n",
    "r.raise_for_status()\n",
    "#r.content\n",
    "blurb = pq(r.content)\n",
    "#print blurb.children().children()\n",
    "for each in blurb.children().children():\n",
    "    print each.text\n",
    "#print blurb\n",
    "#for detail in blurb('dt'):\n",
    "#    print detail.text\n",
    "#    print detail.keys\n",
    "    "
   ]
  },
  {
   "cell_type": "markdown",
   "metadata": {},
   "source": [
    "## Sample"
   ]
  },
  {
   "cell_type": "markdown",
   "metadata": {},
   "source": [
    "```\n",
    "<dl id=\"workout_details\" class=\"details left\"> \n",
    "  <dt>Gear</dt>\n",
    "  <dd>\n",
    "    <ul class=\"keyword_list\">\n",
    "      <li><a href=\"#\" onclick=\"javascript: return false\"><span>Merrell Trail Glove 3 - pair 1</span></a></li>\n",
    "    </ul>\n",
    "  </dd>\n",
    "  <dt style=\"display: none\">Effort</dt>\n",
    "  <dd style=\"display: none\">\n",
    "    <ul class=\"effort-rating\" style=\"display: block\">\n",
    "      <li class=\"current-rating\" style=\"width: 60%;\">Currently 3/5 Effort.</li>\n",
    "    </ul>\n",
    "  </dd>\n",
    "  <dt>Weather</dt>\n",
    "  <dd>\n",
    "    <ul class=\"keyword_list\">\n",
    "      <li><a href=\"#\" onclick=\"javascript: return false\"><span>hot</span></a></li>\n",
    "      <li><a href=\"#\" onclick=\"javascript: return false\"><span>sunny</span></a></li>\n",
    "    </ul>\n",
    "  </dd>\n",
    "  <dt style=\"display: none\">Calories</dt>\n",
    "  <dd style=\"display: none\">\n",
    "    1067\n",
    "  </dd>\n",
    "</dl>\n",
    "<div class=\"clearl empty_div\"></div>\n",
    "```"
   ]
  },
  {
   "cell_type": "markdown",
   "metadata": {},
   "source": [
    "## Beautiful Soup Samples\n"
   ]
  },
  {
   "cell_type": "code",
   "execution_count": 129,
   "metadata": {
    "collapsed": false
   },
   "outputs": [],
   "source": [
    "r = requests.get(sampleurl4)\n",
    "r.raise_for_status()\n",
    "soup = BeautifulSoup(r.content)"
   ]
  },
  {
   "cell_type": "code",
   "execution_count": 131,
   "metadata": {
    "collapsed": false
   },
   "outputs": [
    {
     "data": {
      "text/plain": [
       "<html><body><dl class=\"details left\" id=\"workout_details\">\n",
       "<dt>Gear</dt>\n",
       "<dd>\n",
       "<ul class=\"keyword_list\">\n",
       "<li><a href=\"#\" onclick=\"javascript: return false\"><span>Merrell Trail Glove 3 - pair 1</span></a></li>\n",
       "</ul>\n",
       "</dd>\n",
       "<dt style=\"display: none\">Effort</dt>\n",
       "<dd style=\"display: none\">\n",
       "<ul class=\"effort-rating\" style=\"display: block\">\n",
       "<li class=\"current-rating\" style=\"width: 60%;\">Currently 3/5 Effort.</li>\n",
       "</ul>\n",
       "</dd>\n",
       "<dt>Weather</dt>\n",
       "<dd>\n",
       "<ul class=\"keyword_list\">\n",
       "<li><a href=\"#\" onclick=\"javascript: return false\"><span>hot</span></a></li>\n",
       "<li><a href=\"#\" onclick=\"javascript: return false\"><span>sunny</span></a></li>\n",
       "</ul>\n",
       "</dd>\n",
       "<dt style=\"display: none\">Calories</dt>\n",
       "<dd style=\"display: none\">\n",
       "    1067\n",
       "  </dd>\n",
       "</dl>\n",
       "<div class=\"clearl empty_div\"></div>\n",
       "</body></html>"
      ]
     },
     "execution_count": 131,
     "metadata": {},
     "output_type": "execute_result"
    }
   ],
   "source": [
    "soup"
   ]
  },
  {
   "cell_type": "code",
   "execution_count": 135,
   "metadata": {
    "collapsed": true
   },
   "outputs": [],
   "source": [
    "dt_items = soup.find_all(\"dt\")\n",
    "dd_items = soup.find_all(\"dd\")"
   ]
  },
  {
   "cell_type": "code",
   "execution_count": 139,
   "metadata": {
    "collapsed": false
   },
   "outputs": [
    {
     "name": "stdout",
     "output_type": "stream",
     "text": [
      "Gear\n",
      "Effort\n",
      "Weather\n",
      "Calories\n"
     ]
    }
   ],
   "source": [
    "for each in dt_items:\n",
    "    print each.get_text()"
   ]
  },
  {
   "cell_type": "code",
   "execution_count": 143,
   "metadata": {
    "collapsed": false
   },
   "outputs": [
    {
     "name": "stdout",
     "output_type": "stream",
     "text": [
      "ITEM: \n",
      "\n",
      "Merrell Trail Glove 3 - pair 1\n",
      "\n",
      "\n",
      "ITEM: \n",
      "\n",
      "Currently 3/5 Effort.\n",
      "\n",
      "\n",
      "ITEM: \n",
      "\n",
      "hot\n",
      "sunny\n",
      "\n",
      "\n",
      "ITEM: \n",
      "    1067\n",
      "  \n"
     ]
    }
   ],
   "source": [
    "for each in dd_items:\n",
    "    print \"ITEM:\", each.get_text()"
   ]
  },
  {
   "cell_type": "code",
   "execution_count": 216,
   "metadata": {
    "collapsed": false
   },
   "outputs": [
    {
     "ename": "TypeError",
     "evalue": "strip() takes at most 1 argument (2 given)",
     "output_type": "error",
     "traceback": [
      "\u001b[1;31m---------------------------------------------------------------------------\u001b[0m",
      "\u001b[1;31mTypeError\u001b[0m                                 Traceback (most recent call last)",
      "\u001b[1;32m<ipython-input-216-40d25944c75e>\u001b[0m in \u001b[0;36m<module>\u001b[1;34m()\u001b[0m\n\u001b[0;32m      5\u001b[0m     \u001b[0mdt_texts\u001b[0m\u001b[1;33m.\u001b[0m\u001b[0mappend\u001b[0m\u001b[1;33m(\u001b[0m\u001b[0meach\u001b[0m\u001b[1;33m.\u001b[0m\u001b[0mtext\u001b[0m\u001b[1;33m)\u001b[0m\u001b[1;33m\u001b[0m\u001b[0m\n\u001b[0;32m      6\u001b[0m \u001b[1;32mfor\u001b[0m \u001b[0meach\u001b[0m \u001b[1;32min\u001b[0m \u001b[0mdd_items\u001b[0m\u001b[1;33m:\u001b[0m\u001b[1;33m\u001b[0m\u001b[0m\n\u001b[1;32m----> 7\u001b[1;33m     \u001b[0mdd_texts\u001b[0m\u001b[1;33m.\u001b[0m\u001b[0mappend\u001b[0m\u001b[1;33m(\u001b[0m\u001b[0meach\u001b[0m\u001b[1;33m.\u001b[0m\u001b[0mtext\u001b[0m\u001b[1;33m.\u001b[0m\u001b[0mstrip\u001b[0m\u001b[1;33m(\u001b[0m\u001b[1;34m'\\n'\u001b[0m\u001b[1;33m,\u001b[0m\u001b[1;34m''\u001b[0m\u001b[1;33m)\u001b[0m\u001b[1;33m)\u001b[0m\u001b[1;33m\u001b[0m\u001b[0m\n\u001b[0m\u001b[0;32m      8\u001b[0m \u001b[1;33m\u001b[0m\u001b[0m\n\u001b[0;32m      9\u001b[0m \u001b[1;33m\u001b[0m\u001b[0m\n",
      "\u001b[1;31mTypeError\u001b[0m: strip() takes at most 1 argument (2 given)"
     ]
    }
   ],
   "source": [
    "dt_texts = []\n",
    "dd_texts = []\n",
    "texts = {}\n",
    "for each in dt_items:\n",
    "    dt_texts.append(each.text)\n",
    "for each in dd_items:\n",
    "    dd_texts.append(each.text.re('\\n',''))\n",
    "    \n",
    "\n",
    "#for item in dt_items:\n",
    "#    itemdict[item]"
   ]
  },
  {
   "cell_type": "code",
   "execution_count": 214,
   "metadata": {
    "collapsed": false
   },
   "outputs": [
    {
     "data": {
      "text/plain": [
       "[u'Gear', u'Effort', u'Weather', u'Calories']"
      ]
     },
     "execution_count": 214,
     "metadata": {},
     "output_type": "execute_result"
    }
   ],
   "source": [
    "dt_texts"
   ]
  },
  {
   "cell_type": "code",
   "execution_count": 215,
   "metadata": {
    "collapsed": false
   },
   "outputs": [
    {
     "data": {
      "text/plain": [
       "[u'Merrell Trail Glove 3 - pair 1',\n",
       " u'Currently 3/5 Effort.',\n",
       " u'hot\\nsunny',\n",
       " u'    1067\\n  ']"
      ]
     },
     "execution_count": 215,
     "metadata": {},
     "output_type": "execute_result"
    }
   ],
   "source": [
    "dd_texts"
   ]
  },
  {
   "cell_type": "code",
   "execution_count": 211,
   "metadata": {
    "collapsed": false
   },
   "outputs": [],
   "source": [
    "texts = {}\n",
    "for i in range(0, len(dt_texts)):\n",
    "    texts[dt_texts[i]] = dd_texts[i]"
   ]
  },
  {
   "cell_type": "code",
   "execution_count": 212,
   "metadata": {
    "collapsed": false
   },
   "outputs": [
    {
     "data": {
      "text/plain": [
       "{u'Calories': u'\\n    1067\\n  ',\n",
       " u'Effort': u'\\n\\nCurrently 3/5 Effort.\\n\\n',\n",
       " u'Gear': u'\\n\\nMerrell Trail Glove 3 - pair 1\\n\\n',\n",
       " u'Weather': u'\\n\\nhot\\nsunny\\n\\n'}"
      ]
     },
     "execution_count": 212,
     "metadata": {},
     "output_type": "execute_result"
    }
   ],
   "source": [
    "texts"
   ]
  },
  {
   "cell_type": "markdown",
   "metadata": {},
   "source": [
    "## pyqyery get Details sample\n"
   ]
  },
  {
   "cell_type": "code",
   "execution_count": 125,
   "metadata": {
    "collapsed": false
   },
   "outputs": [
    {
     "name": "stdout",
     "output_type": "stream",
     "text": [
      "not gear\n",
      "not gear\n"
     ]
    }
   ],
   "source": [
    "# using sampleurl4\n",
    "r = requests.get(sampleurl4)\n",
    "r.raise_for_status()\n",
    "#print r.content\n",
    "blurb = pq(r.content)\n",
    "#print blurb.contents()\n",
    "for detail in blurb.children():\n",
    "    if detail.text == 'Gear':\n",
    "        print \"GEAR!\"\n",
    "    else:\n",
    "        print \"not gear\"\n",
    "    #for item in detail.items():\n",
    "    #print \"ITEM:\", detail.html()\n",
    "    #print \"BLEH:\",blurb.items('dt').closest('dd')\n",
    "    #print \"ITEM:\", detail.closest('dd')\n",
    "    #print \"ITEM:\",detail.children()\n",
    "\n",
    "#for detail in blurb('dt'):\n",
    "#    if detail.text == 'Gear':\n",
    "#        for each in detail.iterkeys():\n",
    "#            print each\n",
    "#            print \".\"\n",
    "        \n",
    "    #print detail.keys()\n"
   ]
  },
  {
   "cell_type": "code",
   "execution_count": 10,
   "metadata": {
    "collapsed": false
   },
   "outputs": [],
   "source": [
    "r = requests.get(url,timeout=5)\n",
    "r.raise_for_status()\n",
    "\n"
   ]
  },
  {
   "cell_type": "code",
   "execution_count": 11,
   "metadata": {
    "collapsed": false
   },
   "outputs": [
    {
     "data": {
      "text/plain": [
       "'<dl id=\"workout_details\" class=\"details left\"> \\n  <dt>Gear</dt>\\n  <dd>\\n    <ul class=\"keyword_list\">\\n      <li><a href=\"#\" onclick=\"javascript: return false\"><span>VFF SeeYa LS</span></a></li>\\n    </ul>\\n  </dd>\\n  <dt style=\"display: none\">Effort</dt>\\n  <dd style=\"display: none\">\\n    <ul class=\"effort-rating\" style=\"display: block\">\\n      <li class=\"current-rating\" style=\"width: 60%;\">Currently 3/5 Effort.</li>\\n    </ul>\\n  </dd>\\n  <dt style=\"display: none\">Calories</dt>\\n  <dd style=\"display: none\">\\n    489\\n  </dd>\\n</dl>\\n<div class=\"clearl empty_div\"></div>\\n'"
      ]
     },
     "execution_count": 11,
     "metadata": {},
     "output_type": "execute_result"
    }
   ],
   "source": [
    "r.content"
   ]
  },
  {
   "cell_type": "code",
   "execution_count": 50,
   "metadata": {
    "collapsed": false
   },
   "outputs": [
    {
     "data": {
      "text/plain": [
       "'Currently 3/5 Effort.'"
      ]
     },
     "execution_count": 50,
     "metadata": {},
     "output_type": "execute_result"
    }
   ],
   "source": [
    "doc = pq(r.content)\n",
    "doc('li.current-rating').text()"
   ]
  },
  {
   "cell_type": "code",
   "execution_count": 72,
   "metadata": {
    "collapsed": false
   },
   "outputs": [
    {
     "data": {
      "text/plain": [
       "'spikes - New Balance MXC700BS'"
      ]
     },
     "execution_count": 72,
     "metadata": {},
     "output_type": "execute_result"
    }
   ],
   "source": [
    "doc('ul.keyword_list').text()"
   ]
  },
  {
   "cell_type": "code",
   "execution_count": 73,
   "metadata": {
    "collapsed": false
   },
   "outputs": [
    {
     "data": {
      "text/plain": [
       "[<dt>, <dt>, <dt>]"
      ]
     },
     "execution_count": 73,
     "metadata": {},
     "output_type": "execute_result"
    }
   ],
   "source": [
    "doc('dt')"
   ]
  },
  {
   "cell_type": "code",
   "execution_count": 74,
   "metadata": {
    "collapsed": false
   },
   "outputs": [],
   "source": [
    "gear = ''\n",
    "for detail in doc('dt'):\n",
    "    if detail.text == 'Gear':\n",
    "        gear = doc.find('span').text()"
   ]
  },
  {
   "cell_type": "code",
   "execution_count": 75,
   "metadata": {
    "collapsed": false
   },
   "outputs": [
    {
     "data": {
      "text/plain": [
       "'spikes - New Balance MXC700BS'"
      ]
     },
     "execution_count": 75,
     "metadata": {},
     "output_type": "execute_result"
    }
   ],
   "source": [
    "gear"
   ]
  },
  {
   "cell_type": "code",
   "execution_count": null,
   "metadata": {
    "collapsed": true
   },
   "outputs": [],
   "source": []
  }
 ],
 "metadata": {
  "kernelspec": {
   "display_name": "Python 2",
   "language": "python",
   "name": "python2"
  },
  "language_info": {
   "codemirror_mode": {
    "name": "ipython",
    "version": 2
   },
   "file_extension": ".py",
   "mimetype": "text/x-python",
   "name": "python",
   "nbconvert_exporter": "python",
   "pygments_lexer": "ipython2",
   "version": "2.7.6"
  }
 },
 "nbformat": 4,
 "nbformat_minor": 0
}
